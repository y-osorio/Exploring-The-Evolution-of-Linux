{
  "nbformat": 4,
  "nbformat_minor": 0,
  "metadata": {
    "kernelspec": {
      "display_name": "Python 3",
      "language": "python",
      "name": "python3"
    },
    "language_info": {
      "codemirror_mode": {
        "name": "ipython",
        "version": 3
      },
      "file_extension": ".py",
      "mimetype": "text/x-python",
      "name": "python",
      "nbconvert_exporter": "python",
      "pygments_lexer": "ipython3",
      "version": "3.5.2"
    },
    "colab": {
      "name": "exploring_the_evolution_of_linux.ipynb",
      "provenance": [],
      "collapsed_sections": [],
      "include_colab_link": true
    }
  },
  "cells": [
    {
      "cell_type": "markdown",
      "metadata": {
        "id": "view-in-github",
        "colab_type": "text"
      },
      "source": [
        "<a href=\"https://colab.research.google.com/github/y-osorio/Exploring-The-Evolution-of-Linux/blob/main/exploring_the_evolution_of_linux.ipynb\" target=\"_parent\"><img src=\"https://colab.research.google.com/assets/colab-badge.svg\" alt=\"Open In Colab\"/></a>"
      ]
    },
    {
      "cell_type": "markdown",
      "metadata": {
        "id": "EEikaeE2XiDI"
      },
      "source": [
        "Yared Osorio  \n",
        "CCOM 3031  \n",
        "Prof. P. Ordóñez  \n",
        "DataCamp Project  "
      ]
    },
    {
      "cell_type": "markdown",
      "metadata": {
        "dc": {
          "key": "4"
        },
        "deletable": false,
        "editable": false,
        "run_control": {
          "frozen": true
        },
        "tags": [
          "context"
        ],
        "id": "Ie3yZg-jEmeV"
      },
      "source": [
        "## 1. Introduction\n",
        "<p><a href=\"https://commons.wikimedia.org/wiki/File:Tux.svg\">\n",
        "<img style=\"float: right;margin:5px 20px 5px 1px\" width=\"150px\" src=\"https://assets.datacamp.com/production/project_111/img/tux.png\" alt=\"Tux - the Linux mascot\">\n",
        "</a></p>\n",
        "<p>Version control repositories like CVS, Subversion or Git can be a real gold mine for software developers. They contain every change to the source code including the date (the \"when\"), the responsible developer (the \"who\"), as well as a little message that describes the intention (the \"what\") of a change.</p>\n",
        "<p>In this notebook, we will analyze the evolution of a very famous open-source project &ndash; the Linux kernel. The Linux kernel is the heart of some Linux distributions like Debian, Ubuntu or CentOS. Our dataset at hand contains the history of kernel development of almost 13 years (early 2005 - late 2017). We get some insights into the work of the development efforts by </p>\n",
        "<ul>\n",
        "<li>identifying the TOP 10 contributors and</li>\n",
        "<li>visualizing the commits over the years.</li>\n",
        "</ul>"
      ]
    },
    {
      "cell_type": "code",
      "metadata": {
        "dc": {
          "key": "4"
        },
        "tags": [
          "sample_code"
        ],
        "id": "tyeGkXhEEmem"
      },
      "source": [
        "# Printing the content of git_log_excerpt.csv\n",
        "ex_f = open('datasets/git_log_excerpt.csv')\n",
        "print(ex_f.read())"
      ],
      "execution_count": null,
      "outputs": []
    },
    {
      "cell_type": "markdown",
      "metadata": {
        "dc": {
          "key": "11"
        },
        "deletable": false,
        "editable": false,
        "run_control": {
          "frozen": true
        },
        "tags": [
          "context"
        ],
        "id": "YMGzIHTsEmeo"
      },
      "source": [
        "## 2. Reading in the dataset\n",
        "<p>The dataset was created by using the command <code>git log --encoding=latin-1 --pretty=\"%at#%aN\"</code> in late 2017. The <code>latin-1</code> encoded text output was saved in a header-less CSV file. In this file, each row is a commit entry with the following information:</p>\n",
        "<ul>\n",
        "<li><code>timestamp</code>: the time of the commit as a UNIX timestamp in seconds since 1970-01-01 00:00:00 (Git log placeholder \"<code>%at</code>\")</li>\n",
        "<li><code>author</code>: the name of the author that performed the commit (Git log placeholder \"<code>%aN</code>\")</li>\n",
        "</ul>\n",
        "<p>The columns are separated by the number sign <code>#</code>. The complete dataset is in the <code>datasets/</code> directory. It is a <code>gz</code>-compressed csv file named <code>git_log.gz</code>.</p>"
      ]
    },
    {
      "cell_type": "code",
      "metadata": {
        "dc": {
          "key": "11"
        },
        "tags": [
          "sample_code"
        ],
        "id": "gZ60NNz_Emeq"
      },
      "source": [
        "# NOTE: It won't run here (Colab), but it worked\n",
        "#       when I ran this cell on the DataCamp \n",
        "#       project notebook.\n",
        "\n",
        "# Loading in the pandas module as 'pd'\n",
        "import pandas as pd\n",
        "\n",
        "# Reading in the log file\n",
        "git_log = pd.read_csv('datasets/git_log.gz', sep='#', \n",
        "                      encoding='latin-1', header=None, \n",
        "                      names=['timestamp', 'author'])\n",
        "\n",
        "# Printing the first 5 rows\n",
        "git_log.head(5)"
      ],
      "execution_count": null,
      "outputs": []
    },
    {
      "cell_type": "markdown",
      "metadata": {
        "dc": {
          "key": "18"
        },
        "deletable": false,
        "editable": false,
        "run_control": {
          "frozen": true
        },
        "tags": [
          "context"
        ],
        "id": "Medh0BelEmer"
      },
      "source": [
        "## 3. Getting an overview\n",
        "<p>The dataset contains the information about every single code contribution (a \"commit\") to the Linux kernel over the last 13 years. We'll first take a look at the number of authors and their commits to the repository.</p>"
      ]
    },
    {
      "cell_type": "code",
      "metadata": {
        "dc": {
          "key": "18"
        },
        "tags": [
          "sample_code"
        ],
        "id": "SPcPIMosEmer"
      },
      "source": [
        "# calculating number of commits\n",
        "number_of_commits = len(git_log)\n",
        "\n",
        "# calculating number of authors\n",
        "number_of_authors = len(git_log['author'].dropna().unique())\n",
        "\n",
        "# printing out the results\n",
        "print(\"%s authors committed %s code changes.\" % (number_of_authors, number_of_commits))"
      ],
      "execution_count": null,
      "outputs": []
    },
    {
      "cell_type": "markdown",
      "metadata": {
        "dc": {
          "key": "25"
        },
        "deletable": false,
        "editable": false,
        "run_control": {
          "frozen": true
        },
        "tags": [
          "context"
        ],
        "id": "KjVNnrv_Emet"
      },
      "source": [
        "## 4. Finding the TOP 10 contributors\n",
        "<p>There are some very important people that changed the Linux kernel very often. To see if there are any bottlenecks, we take a look at the TOP 10 authors with the most commits.</p>"
      ]
    },
    {
      "cell_type": "code",
      "metadata": {
        "dc": {
          "key": "25"
        },
        "tags": [
          "sample_code"
        ],
        "id": "sYum9ULaEmev"
      },
      "source": [
        "# Identifying the top 10 authors\n",
        "top_10_authors = git_log['author'].value_counts().head(10)\n",
        "\n",
        "# Listing contents of 'top_10_authors'\n",
        "top_10_authors.head(10)"
      ],
      "execution_count": null,
      "outputs": []
    },
    {
      "cell_type": "markdown",
      "metadata": {
        "dc": {
          "key": "32"
        },
        "deletable": false,
        "editable": false,
        "run_control": {
          "frozen": true
        },
        "tags": [
          "context"
        ],
        "id": "pMpReCksEmex"
      },
      "source": [
        "## 5. Wrangling the data\n",
        "<p>For our analysis, we want to visualize the contributions over time. For this, we use the information in the <code>timestamp</code> column to create a time series-based column.</p>"
      ]
    },
    {
      "cell_type": "code",
      "metadata": {
        "dc": {
          "key": "32"
        },
        "tags": [
          "sample_code"
        ],
        "id": "PgZAS7r5Emey"
      },
      "source": [
        "# converting the timestamp column\n",
        "git_log['timestamp'] = pd.to_datetime(git_log['timestamp'], unit=\"s\")\n",
        "\n",
        "# summarizing the converted timestamp column\n",
        "git_log['timestamp'].describe()"
      ],
      "execution_count": null,
      "outputs": []
    },
    {
      "cell_type": "markdown",
      "metadata": {
        "dc": {
          "key": "39"
        },
        "deletable": false,
        "editable": false,
        "run_control": {
          "frozen": true
        },
        "tags": [
          "context"
        ],
        "id": "FF_FCbyxEmez"
      },
      "source": [
        "## 6. Treating wrong timestamps\n",
        "<p>As we can see from the results above, some contributors had their operating system's time incorrectly set when they committed to the repository. We'll clean up the <code>timestamp</code> column by dropping the rows with the incorrect timestamps.</p>"
      ]
    },
    {
      "cell_type": "code",
      "metadata": {
        "dc": {
          "key": "39"
        },
        "tags": [
          "sample_code"
        ],
        "id": "9dqaQwB3Eme0"
      },
      "source": [
        "# determining the first real commit timestamp\n",
        "first_commit_ts = git_log.iloc[-1]['timestamp']\n",
        "\n",
        "# determining the last sensible commit timestamp\n",
        "last_commit_ts = pd.to_datetime('2018')\n",
        "\n",
        "# filtering out wrong timestamps\n",
        "fixed_git_log = git_log[(git_log['timestamp'] >= first_commit_ts) & \n",
        "                        (git_log['timestamp'] <= last_commit_ts)]\n",
        "\n",
        "# summarizing the corrected timestamp column\n",
        "fixed_git_log['timestamp'].describe()"
      ],
      "execution_count": null,
      "outputs": []
    },
    {
      "cell_type": "markdown",
      "metadata": {
        "dc": {
          "key": "46"
        },
        "deletable": false,
        "editable": false,
        "run_control": {
          "frozen": true
        },
        "tags": [
          "context"
        ],
        "id": "TKMYIZ2OEme0"
      },
      "source": [
        "## 7. Grouping commits per year\n",
        "<p>To find out how the development activity has increased over time, we'll group the commits by year and count them up.</p>"
      ]
    },
    {
      "cell_type": "code",
      "metadata": {
        "dc": {
          "key": "46"
        },
        "tags": [
          "sample_code"
        ],
        "id": "4glc7CfkEme1"
      },
      "source": [
        "# Counting the no. commits per year\n",
        "commits_per_year = fixed_git_log.groupby( pd.Grouper(key='timestamp',\n",
        "                                                     freq='AS')).count()\n",
        "\n",
        "# Listing the first rows\n",
        "commits_per_year.head()"
      ],
      "execution_count": null,
      "outputs": []
    },
    {
      "cell_type": "markdown",
      "metadata": {
        "dc": {
          "key": "53"
        },
        "deletable": false,
        "editable": false,
        "run_control": {
          "frozen": true
        },
        "tags": [
          "context"
        ],
        "id": "FxJwNPtlEme2"
      },
      "source": [
        "## 8. Visualizing the history of Linux\n",
        "<p>Finally, we'll make a plot out of these counts to better see how the development effort on Linux has increased over the the last few years. </p>"
      ]
    },
    {
      "cell_type": "code",
      "metadata": {
        "dc": {
          "key": "53"
        },
        "tags": [
          "sample_code"
        ],
        "id": "qic5VVjuEme2"
      },
      "source": [
        "# Setting up plotting in Jupyter notebooks\n",
        "%matplotlib inline\n",
        "\n",
        "# plot the data\n",
        "commits_per_year.plot(kind='bar', title=\"Commits per year (Linux kernel)\",\n",
        "                      legend=False)"
      ],
      "execution_count": null,
      "outputs": []
    },
    {
      "cell_type": "markdown",
      "metadata": {
        "dc": {
          "key": "60"
        },
        "deletable": false,
        "editable": false,
        "run_control": {
          "frozen": true
        },
        "tags": [
          "context"
        ],
        "id": "L1iGulmLEme3"
      },
      "source": [
        "## 9.  Conclusion\n",
        "<p>Thanks to the solid foundation and caretaking of Linux Torvalds, many other developers are now able to contribute to the Linux kernel as well. There is no decrease of development activity at sight!</p>"
      ]
    },
    {
      "cell_type": "code",
      "metadata": {
        "dc": {
          "key": "60"
        },
        "tags": [
          "sample_code"
        ],
        "id": "KB0T0vhNEme4"
      },
      "source": [
        "# calculating or setting the year with the most commits to Linux\n",
        "year_with_most_commits = 2016 "
      ],
      "execution_count": null,
      "outputs": []
    }
  ]
}